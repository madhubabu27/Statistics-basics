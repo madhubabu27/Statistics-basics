{
 "cells": [
  {
   "cell_type": "markdown",
   "metadata": {},
   "source": [
    "# Statistics for Machine Learning"
   ]
  },
  {
   "cell_type": "markdown",
   "metadata": {},
   "source": [
    "It is a branch of mathematics pertaining to the collection, analysis, interpretation, and presentation of masses of numerical data."
   ]
  },
  {
   "cell_type": "markdown",
   "metadata": {},
   "source": [
    "The Four Levels of Analytics:\n",
    "    1. Descriptive   -    What is happening?\n",
    "    2. Diagnostic    -    Why is it happening?\n",
    "    3. Predictive    -    What is likely to happen?\n",
    "    4. Prescriptive  -    What is the best course of action?"
   ]
  },
  {
   "cell_type": "markdown",
   "metadata": {},
   "source": [
    "*Descriptive statistics* are numbers that are used to summarize and describe data. The word \"data\" refers to the information that has been collected from an experiment, a survey, a historical record, etc.\n",
    "\n",
    "*Descriptive statistics* uses the data to provide descriptions of the population, either through numerical calculations or graphs or tables. Inferential statistics makes inferences and predictions about a population based on a sample of data taken from the population in question.\n",
    "\n",
    "•\tDescriptive statistics asks, “What do I have?”\n",
    "\n",
    "•\tInferential statistics asks, “What can I conclude?”\n"
   ]
  },
  {
   "cell_type": "code",
   "execution_count": null,
   "metadata": {},
   "outputs": [],
   "source": []
  }
 ],
 "metadata": {
  "kernelspec": {
   "display_name": "Python 3",
   "language": "python",
   "name": "python3"
  },
  "language_info": {
   "codemirror_mode": {
    "name": "ipython",
    "version": 3
   },
   "file_extension": ".py",
   "mimetype": "text/x-python",
   "name": "python",
   "nbconvert_exporter": "python",
   "pygments_lexer": "ipython3",
   "version": "3.7.3"
  }
 },
 "nbformat": 4,
 "nbformat_minor": 2
}
